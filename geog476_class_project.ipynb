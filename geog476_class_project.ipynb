version https://git-lfs.github.com/spec/v1
oid sha256:63ada873b1a78867656233f1152a11863e24ab616eb73ec85c00b02572c54865
size 34348742
